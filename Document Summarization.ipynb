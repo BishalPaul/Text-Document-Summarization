{
 "cells": [
  {
   "cell_type": "markdown",
   "metadata": {},
   "source": [
    "# Text Document Summarization using Spacy libary\n",
    "Importing the libaries\n",
    "\n",
    "\n",
    "\n",
    "Steps:\n",
    "1. Text Cleaning\n",
    "2. Word Tokenization\n",
    "3. Sentence Tokenization\n",
    "4. Finding the Summary"
   ]
  },
  {
   "cell_type": "code",
   "execution_count": 45,
   "metadata": {},
   "outputs": [],
   "source": [
    "import spacy\n",
    "from spacy.lang.en.stop_words import STOP_WORDS\n",
    "from string import punctuation"
   ]
  },
  {
   "cell_type": "code",
   "execution_count": 54,
   "metadata": {},
   "outputs": [],
   "source": [
    "text=\"\"\"\n",
    "Machine learning (ML) is the study of computer algorithms that improve automatically through experience.[1] It is seen as a subset of artificial intelligence. Machine learning algorithms build a mathematical model based on sample data, known as \"training data\", in order to make predictions or decisions without being explicitly programmed to do so.[2][3]:2 Machine learning algorithms are used in a wide variety of applications, such as email filtering and computer vision, where it is difficult or infeasible to develop conventional algorithms to perform the needed tasks.\n",
    "\n",
    "Machine learning is closely related to computational statistics, which focuses on making predictions using computers. The study of mathematical optimization delivers methods, theory and application domains to the field of machine learning. data mining is a related field of study, focusing on exploratory data analysis through unsupervised learning.[4][5] In its application across business problems, machine learning is also referred to as predictive analytics.\"\"\""
   ]
  },
  {
   "cell_type": "code",
   "execution_count": 55,
   "metadata": {},
   "outputs": [],
   "source": [
    "stopwords=list(STOP_WORDS)"
   ]
  },
  {
   "cell_type": "code",
   "execution_count": 56,
   "metadata": {},
   "outputs": [],
   "source": [
    "nlp=spacy.load('en_core_web_sm')"
   ]
  },
  {
   "cell_type": "code",
   "execution_count": 57,
   "metadata": {},
   "outputs": [],
   "source": [
    "document=nlp(text)"
   ]
  },
  {
   "cell_type": "code",
   "execution_count": 58,
   "metadata": {},
   "outputs": [
    {
     "name": "stdout",
     "output_type": "stream",
     "text": [
      "['\\n', 'Machine', 'learning', '(', 'ML', ')', 'is', 'the', 'study', 'of', 'computer', 'algorithms', 'that', 'improve', 'automatically', 'through', 'experience.[1', ']', 'It', 'is', 'seen', 'as', 'a', 'subset', 'of', 'artificial', 'intelligence', '.', 'Machine', 'learning', 'algorithms', 'build', 'a', 'mathematical', 'model', 'based', 'on', 'sample', 'data', ',', 'known', 'as', '\"', 'training', 'data', '\"', ',', 'in', 'order', 'to', 'make', 'predictions', 'or', 'decisions', 'without', 'being', 'explicitly', 'programmed', 'to', 'do', 'so.[2][3]:2', 'Machine', 'learning', 'algorithms', 'are', 'used', 'in', 'a', 'wide', 'variety', 'of', 'applications', ',', 'such', 'as', 'email', 'filtering', 'and', 'computer', 'vision', ',', 'where', 'it', 'is', 'difficult', 'or', 'infeasible', 'to', 'develop', 'conventional', 'algorithms', 'to', 'perform', 'the', 'needed', 'tasks', '.', '\\n\\n', 'Machine', 'learning', 'is', 'closely', 'related', 'to', 'computational', 'statistics', ',', 'which', 'focuses', 'on', 'making', 'predictions', 'using', 'computers', '.', 'The', 'study', 'of', 'mathematical', 'optimization', 'delivers', 'methods', ',', 'theory', 'and', 'application', 'domains', 'to', 'the', 'field', 'of', 'machine', 'learning', '.', 'data', 'mining', 'is', 'a', 'related', 'field', 'of', 'study', ',', 'focusing', 'on', 'exploratory', 'data', 'analysis', 'through', 'unsupervised', 'learning.[4][5', ']', 'In', 'its', 'application', 'across', 'business', 'problems', ',', 'machine', 'learning', 'is', 'also', 'referred', 'to', 'as', 'predictive', 'analytics', '.']\n"
     ]
    }
   ],
   "source": [
    "tokens=[token.text for token in document]\n",
    "print(tokens)"
   ]
  },
  {
   "cell_type": "code",
   "execution_count": 59,
   "metadata": {},
   "outputs": [
    {
     "data": {
      "text/plain": [
       "'!\"#$%&\\'()*+,-./:;<=>?@[\\\\]^_`{|}~\\n\\n'"
      ]
     },
     "execution_count": 59,
     "metadata": {},
     "output_type": "execute_result"
    }
   ],
   "source": [
    "punctuation=punctuation+'\\n'\n",
    "punctuation"
   ]
  },
  {
   "cell_type": "code",
   "execution_count": 60,
   "metadata": {},
   "outputs": [
    {
     "name": "stdout",
     "output_type": "stream",
     "text": [
      "{'Machine': 1, 'learning': 6, 'ML': 1, 'study': 3, 'computer': 2, 'algorithms': 4, 'improve': 1, 'automatically': 1, 'experience.[1': 1, 'seen': 1, 'subset': 1, 'artificial': 1, 'intelligence': 1, 'build': 1, 'mathematical': 2, 'model': 1, 'based': 1, 'sample': 1, 'data': 4, 'known': 1, 'training': 1, 'order': 1, 'predictions': 2, 'decisions': 1, 'explicitly': 1, 'programmed': 1, 'so.[2][3]:2': 1, 'wide': 1, 'variety': 1, 'applications': 1, 'email': 1, 'filtering': 1, 'vision': 1, 'difficult': 1, 'infeasible': 1, 'develop': 1, 'conventional': 1, 'perform': 1, 'needed': 1, 'tasks': 1, 'closely': 1, 'related': 2, 'computational': 1, 'statistics': 1, 'focuses': 1, 'making': 1, 'computers': 1, 'optimization': 1, 'delivers': 1, 'methods': 1, 'theory': 1, 'application': 2, 'domains': 1, 'field': 2, 'machine': 2, 'mining': 1, 'focusing': 1, 'exploratory': 1, 'analysis': 1, 'unsupervised': 1, 'learning.[4][5': 1, 'business': 1, 'problems': 1, 'referred': 1, 'predictive': 1, 'analytics': 1}\n"
     ]
    }
   ],
   "source": [
    "word_frequencies={}\n",
    "for word in document:\n",
    "    if word.text.lower() not in stopwords:\n",
    "        if word.text.lower() not in punctuation:\n",
    "            if word.text.lower() not in word_frequencies.keys():\n",
    "                word_frequencies[word.text]=1\n",
    "            else:\n",
    "                word_frequencies[word.text]+=1\n",
    "print(word_frequencies)"
   ]
  },
  {
   "cell_type": "code",
   "execution_count": 61,
   "metadata": {},
   "outputs": [
    {
     "name": "stdout",
     "output_type": "stream",
     "text": [
      "6\n"
     ]
    }
   ],
   "source": [
    "max_frequency=max(word_frequencies.values())\n",
    "print(max_frequency)"
   ]
  },
  {
   "cell_type": "code",
   "execution_count": 62,
   "metadata": {},
   "outputs": [
    {
     "name": "stdout",
     "output_type": "stream",
     "text": [
      "{'Machine': 0.16666666666666666, 'learning': 1.0, 'ML': 0.16666666666666666, 'study': 0.5, 'computer': 0.3333333333333333, 'algorithms': 0.6666666666666666, 'improve': 0.16666666666666666, 'automatically': 0.16666666666666666, 'experience.[1': 0.16666666666666666, 'seen': 0.16666666666666666, 'subset': 0.16666666666666666, 'artificial': 0.16666666666666666, 'intelligence': 0.16666666666666666, 'build': 0.16666666666666666, 'mathematical': 0.3333333333333333, 'model': 0.16666666666666666, 'based': 0.16666666666666666, 'sample': 0.16666666666666666, 'data': 0.6666666666666666, 'known': 0.16666666666666666, 'training': 0.16666666666666666, 'order': 0.16666666666666666, 'predictions': 0.3333333333333333, 'decisions': 0.16666666666666666, 'explicitly': 0.16666666666666666, 'programmed': 0.16666666666666666, 'so.[2][3]:2': 0.16666666666666666, 'wide': 0.16666666666666666, 'variety': 0.16666666666666666, 'applications': 0.16666666666666666, 'email': 0.16666666666666666, 'filtering': 0.16666666666666666, 'vision': 0.16666666666666666, 'difficult': 0.16666666666666666, 'infeasible': 0.16666666666666666, 'develop': 0.16666666666666666, 'conventional': 0.16666666666666666, 'perform': 0.16666666666666666, 'needed': 0.16666666666666666, 'tasks': 0.16666666666666666, 'closely': 0.16666666666666666, 'related': 0.3333333333333333, 'computational': 0.16666666666666666, 'statistics': 0.16666666666666666, 'focuses': 0.16666666666666666, 'making': 0.16666666666666666, 'computers': 0.16666666666666666, 'optimization': 0.16666666666666666, 'delivers': 0.16666666666666666, 'methods': 0.16666666666666666, 'theory': 0.16666666666666666, 'application': 0.3333333333333333, 'domains': 0.16666666666666666, 'field': 0.3333333333333333, 'machine': 0.3333333333333333, 'mining': 0.16666666666666666, 'focusing': 0.16666666666666666, 'exploratory': 0.16666666666666666, 'analysis': 0.16666666666666666, 'unsupervised': 0.16666666666666666, 'learning.[4][5': 0.16666666666666666, 'business': 0.16666666666666666, 'problems': 0.16666666666666666, 'referred': 0.16666666666666666, 'predictive': 0.16666666666666666, 'analytics': 0.16666666666666666}\n"
     ]
    }
   ],
   "source": [
    "for word in word_frequencies.keys():\n",
    "    word_frequencies[word]=word_frequencies[word]/max_frequency\n",
    "print(word_frequencies)"
   ]
  },
  {
   "cell_type": "code",
   "execution_count": 63,
   "metadata": {},
   "outputs": [
    {
     "name": "stdout",
     "output_type": "stream",
     "text": [
      "[\n",
      "Machine learning (ML) is the study of computer algorithms that improve automatically through experience.[1], It is seen as a subset of artificial intelligence., Machine learning algorithms build a mathematical model based on sample data, known as \"training data\", in order to make predictions or decisions without being explicitly programmed to do so.[2][3]:2 Machine learning algorithms are used in a wide variety of applications, such as email filtering and computer vision, where it is difficult or infeasible to develop conventional algorithms to perform the needed tasks.\n",
      "\n",
      ", Machine learning is closely related to computational statistics, which focuses on making predictions using computers., The study of mathematical optimization delivers methods, theory and application domains to the field of machine learning., data mining is a related field of study, focusing on exploratory data analysis through unsupervised learning.[4][5], In its application across business problems, machine learning is also referred to as predictive analytics.]\n"
     ]
    }
   ],
   "source": [
    "sent_tokens=[sent for sent in document.sents]\n",
    "print(sent_tokens)"
   ]
  },
  {
   "cell_type": "code",
   "execution_count": 64,
   "metadata": {},
   "outputs": [
    {
     "name": "stdout",
     "output_type": "stream",
     "text": [
      "{\n",
      "Machine learning (ML) is the study of computer algorithms that improve automatically through experience.[1]: 3.3333333333333326, It is seen as a subset of artificial intelligence.: 0.6666666666666666, Machine learning algorithms build a mathematical model based on sample data, known as \"training data\", in order to make predictions or decisions without being explicitly programmed to do so.[2][3]:2 Machine learning algorithms are used in a wide variety of applications, such as email filtering and computer vision, where it is difficult or infeasible to develop conventional algorithms to perform the needed tasks.\n",
      "\n",
      ": 10.999999999999993, Machine learning is closely related to computational statistics, which focuses on making predictions using computers.: 2.9999999999999996, The study of mathematical optimization delivers methods, theory and application domains to the field of machine learning.: 3.666666666666667, data mining is a related field of study, focusing on exploratory data analysis through unsupervised learning.[4][5]: 3.499999999999999, In its application across business problems, machine learning is also referred to as predictive analytics.: 2.4999999999999996}\n"
     ]
    }
   ],
   "source": [
    "sent_scores={}\n",
    "for sent in sent_tokens:\n",
    "    for word in sent:\n",
    "        if word.text.lower() in word_frequencies.keys():\n",
    "            if sent not in sent_scores.keys():\n",
    "                sent_scores[sent]=word_frequencies[word.text.lower()]\n",
    "            else:\n",
    "                sent_scores[sent]+=word_frequencies[word.text.lower()]\n",
    "print(sent_scores)"
   ]
  },
  {
   "cell_type": "code",
   "execution_count": 65,
   "metadata": {},
   "outputs": [],
   "source": [
    "from heapq import nlargest"
   ]
  },
  {
   "cell_type": "code",
   "execution_count": 66,
   "metadata": {},
   "outputs": [
    {
     "data": {
      "text/plain": [
       "2"
      ]
     },
     "execution_count": 66,
     "metadata": {},
     "output_type": "execute_result"
    }
   ],
   "source": [
    "sent_length=int(len(sent_tokens)*.30)\n",
    "sent_length"
   ]
  },
  {
   "cell_type": "code",
   "execution_count": 67,
   "metadata": {},
   "outputs": [],
   "source": [
    "summary_sent=nlargest(sent_length,sent_scores,key=sent_scores.get)"
   ]
  },
  {
   "cell_type": "code",
   "execution_count": 68,
   "metadata": {},
   "outputs": [
    {
     "data": {
      "text/plain": [
       "[Machine learning algorithms build a mathematical model based on sample data, known as \"training data\", in order to make predictions or decisions without being explicitly programmed to do so.[2][3]:2 Machine learning algorithms are used in a wide variety of applications, such as email filtering and computer vision, where it is difficult or infeasible to develop conventional algorithms to perform the needed tasks.\n",
       " ,\n",
       " The study of mathematical optimization delivers methods, theory and application domains to the field of machine learning.]"
      ]
     },
     "execution_count": 68,
     "metadata": {},
     "output_type": "execute_result"
    }
   ],
   "source": [
    "summary_sent"
   ]
  },
  {
   "cell_type": "code",
   "execution_count": 69,
   "metadata": {},
   "outputs": [],
   "source": [
    "summary=[word.text for word in summary_sent]\n",
    "summary=' '.join(summary)"
   ]
  },
  {
   "cell_type": "code",
   "execution_count": 70,
   "metadata": {},
   "outputs": [
    {
     "name": "stdout",
     "output_type": "stream",
     "text": [
      "Machine learning algorithms build a mathematical model based on sample data, known as \"training data\", in order to make predictions or decisions without being explicitly programmed to do so.[2][3]:2 Machine learning algorithms are used in a wide variety of applications, such as email filtering and computer vision, where it is difficult or infeasible to develop conventional algorithms to perform the needed tasks.\n",
      "\n",
      " The study of mathematical optimization delivers methods, theory and application domains to the field of machine learning.\n"
     ]
    }
   ],
   "source": [
    "print(summary)"
   ]
  },
  {
   "cell_type": "code",
   "execution_count": null,
   "metadata": {},
   "outputs": [],
   "source": []
  }
 ],
 "metadata": {
  "kernelspec": {
   "display_name": "Python 3",
   "language": "python",
   "name": "python3"
  },
  "language_info": {
   "codemirror_mode": {
    "name": "ipython",
    "version": 3
   },
   "file_extension": ".py",
   "mimetype": "text/x-python",
   "name": "python",
   "nbconvert_exporter": "python",
   "pygments_lexer": "ipython3",
   "version": "3.7.1"
  }
 },
 "nbformat": 4,
 "nbformat_minor": 2
}
